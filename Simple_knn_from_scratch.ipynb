{
  "nbformat": 4,
  "nbformat_minor": 0,
  "metadata": {
    "colab": {
      "name": "Simple knn.ipynb",
      "provenance": [],
      "authorship_tag": "ABX9TyNAFxqif0xmnOkT9rEuAcMS",
      "include_colab_link": true
    },
    "kernelspec": {
      "name": "python3",
      "display_name": "Python 3"
    },
    "accelerator": "GPU"
  },
  "cells": [
    {
      "cell_type": "markdown",
      "metadata": {
        "id": "view-in-github",
        "colab_type": "text"
      },
      "source": [
        "<a href=\"https://colab.research.google.com/github/ujjalkumarmaity/k-nearest-neighbors-/blob/master/Simple_knn_from_scratch.ipynb\" target=\"_parent\"><img src=\"https://colab.research.google.com/assets/colab-badge.svg\" alt=\"Open In Colab\"/></a>"
      ]
    },
    {
      "cell_type": "code",
      "metadata": {
        "id": "WeL98UvkWhf1",
        "colab_type": "code",
        "colab": {}
      },
      "source": [
        "import pandas as pd\n",
        "import numpy as np\n",
        "import matplotlib.pyplot as plt\n",
        "from matplotlib.colors import ListedColormap\n",
        "from sklearn.model_selection import train_test_split\n",
        "from scipy.spatial import distance"
      ],
      "execution_count": 0,
      "outputs": []
    },
    {
      "cell_type": "code",
      "metadata": {
        "id": "Ei5ktQKuXJHu",
        "colab_type": "code",
        "outputId": "2d810bd2-b218-438d-f14b-13392d44813d",
        "colab": {
          "base_uri": "https://localhost:8080/",
          "height": 129
        }
      },
      "source": [
        "from google.colab import drive\n",
        "drive.mount('/content/drive')"
      ],
      "execution_count": 2,
      "outputs": [
        {
          "output_type": "stream",
          "text": [
            "Go to this URL in a browser: https://accounts.google.com/o/oauth2/auth?client_id=947318989803-6bn6qk8qdgf4n4g3pfee6491hc0brc4i.apps.googleusercontent.com&redirect_uri=urn%3aietf%3awg%3aoauth%3a2.0%3aoob&response_type=code&scope=email%20https%3a%2f%2fwww.googleapis.com%2fauth%2fdocs.test%20https%3a%2f%2fwww.googleapis.com%2fauth%2fdrive%20https%3a%2f%2fwww.googleapis.com%2fauth%2fdrive.photos.readonly%20https%3a%2f%2fwww.googleapis.com%2fauth%2fpeopleapi.readonly\n",
            "\n",
            "Enter your authorization code:\n",
            "··········\n",
            "Mounted at /content/drive\n"
          ],
          "name": "stdout"
        }
      ]
    },
    {
      "cell_type": "code",
      "metadata": {
        "id": "Q7UbqOwJXpRd",
        "colab_type": "code",
        "outputId": "e29f7078-eb4a-447e-c31b-1df7cb4b3c05",
        "colab": {
          "base_uri": "https://localhost:8080/",
          "height": 175
        }
      },
      "source": [
        "df=pd.read_csv('/content/drive/My Drive/Colab Notebooks/knn/demo_data/1.ushape.csv',names=['x1','x2','y'])\n",
        "df.head(4)"
      ],
      "execution_count": 3,
      "outputs": [
        {
          "output_type": "execute_result",
          "data": {
            "text/html": [
              "<div>\n",
              "<style scoped>\n",
              "    .dataframe tbody tr th:only-of-type {\n",
              "        vertical-align: middle;\n",
              "    }\n",
              "\n",
              "    .dataframe tbody tr th {\n",
              "        vertical-align: top;\n",
              "    }\n",
              "\n",
              "    .dataframe thead th {\n",
              "        text-align: right;\n",
              "    }\n",
              "</style>\n",
              "<table border=\"1\" class=\"dataframe\">\n",
              "  <thead>\n",
              "    <tr style=\"text-align: right;\">\n",
              "      <th></th>\n",
              "      <th>x1</th>\n",
              "      <th>x2</th>\n",
              "      <th>y</th>\n",
              "    </tr>\n",
              "  </thead>\n",
              "  <tbody>\n",
              "    <tr>\n",
              "      <th>0</th>\n",
              "      <td>0.031595</td>\n",
              "      <td>0.986988</td>\n",
              "      <td>0.0</td>\n",
              "    </tr>\n",
              "    <tr>\n",
              "      <th>1</th>\n",
              "      <td>2.115098</td>\n",
              "      <td>-0.046244</td>\n",
              "      <td>1.0</td>\n",
              "    </tr>\n",
              "    <tr>\n",
              "      <th>2</th>\n",
              "      <td>0.882490</td>\n",
              "      <td>-0.075756</td>\n",
              "      <td>0.0</td>\n",
              "    </tr>\n",
              "    <tr>\n",
              "      <th>3</th>\n",
              "      <td>-0.055144</td>\n",
              "      <td>-0.037332</td>\n",
              "      <td>1.0</td>\n",
              "    </tr>\n",
              "  </tbody>\n",
              "</table>\n",
              "</div>"
            ],
            "text/plain": [
              "         x1        x2    y\n",
              "0  0.031595  0.986988  0.0\n",
              "1  2.115098 -0.046244  1.0\n",
              "2  0.882490 -0.075756  0.0\n",
              "3 -0.055144 -0.037332  1.0"
            ]
          },
          "metadata": {
            "tags": []
          },
          "execution_count": 3
        }
      ]
    },
    {
      "cell_type": "code",
      "metadata": {
        "id": "E__9C6qiYHSP",
        "colab_type": "code",
        "colab": {}
      },
      "source": [
        "x=df[['x1','x2']]\n",
        "y=df['y']\n",
        "x_train,x_test,y_train,y_test=train_test_split(x,y,test_size=0.3,random_state=0)\n",
        "x_train=x_train.reset_index().drop(columns='index')\n",
        "y_train=y_train.reset_index().drop(columns='index')\n",
        "x_test=x_test.reset_index().drop(columns='index')\n",
        "y_test=y_test.reset_index().drop(columns='index')"
      ],
      "execution_count": 0,
      "outputs": []
    },
    {
      "cell_type": "code",
      "metadata": {
        "id": "HCBym_amY8j8",
        "colab_type": "code",
        "colab": {}
      },
      "source": [
        "def simple_knn(k,x_train,y_train,test):\n",
        "\n",
        "    z=int(k)\n",
        "    result=[]\n",
        "    for i in test.values:\n",
        "        dist=[]\n",
        "        for j,k in enumerate(x_train.values):\n",
        "            #print(i,k,distance.euclidean(i,k),j)\n",
        "            dist.append([distance.euclidean(i,k),y_train.loc[j].values[0]])\n",
        "        dist.sort()\n",
        "        neighbour=dist[:z]\n",
        "        p=pd.DataFrame(data=neighbour)\n",
        "        value=p[1].value_counts().to_frame()\n",
        "        result.append(value.index[0])\n",
        "    return result\n",
        "def accuracy(y,result):\n",
        "    count=0\n",
        "    #print(y)\n",
        "    for i,j in enumerate(y.values):\n",
        "        if result[i]==j:\n",
        "            count+=1\n",
        "    return (count/len(result))\n"
      ],
      "execution_count": 0,
      "outputs": []
    },
    {
      "cell_type": "code",
      "metadata": {
        "id": "r5wRjMX1ZiuZ",
        "colab_type": "code",
        "outputId": "e392e50f-28e9-439d-e552-ae9c221224c5",
        "colab": {
          "base_uri": "https://localhost:8080/",
          "height": 182
        }
      },
      "source": [
        "p=x_test\n",
        "#print(p)\n",
        "k=[1,3,5,7,9,11,22,55,70]\n",
        "for i in k:\n",
        "  y=simple_knn(i,x_train,y_train,x_train)\n",
        "  print('k=',i,'accuracy is',accuracy(y_train['y'],y))"
      ],
      "execution_count": 20,
      "outputs": [
        {
          "output_type": "stream",
          "text": [
            "k= 1 accuracy is 1.0\n",
            "k= 3 accuracy is 0.9571428571428572\n",
            "k= 5 accuracy is 0.9571428571428572\n",
            "k= 7 accuracy is 0.9571428571428572\n",
            "k= 9 accuracy is 0.9285714285714286\n",
            "k= 11 accuracy is 0.9285714285714286\n",
            "k= 22 accuracy is 0.8714285714285714\n",
            "k= 55 accuracy is 0.7571428571428571\n",
            "k= 70 accuracy is 0.5142857142857142\n"
          ],
          "name": "stdout"
        }
      ]
    },
    {
      "cell_type": "code",
      "metadata": {
        "id": "tj0yyiZwZi7G",
        "colab_type": "code",
        "colab": {}
      },
      "source": [
        ""
      ],
      "execution_count": 0,
      "outputs": []
    },
    {
      "cell_type": "code",
      "metadata": {
        "id": "ERlBLHEMav80",
        "colab_type": "code",
        "colab": {}
      },
      "source": [
        ""
      ],
      "execution_count": 0,
      "outputs": []
    }
  ]
}